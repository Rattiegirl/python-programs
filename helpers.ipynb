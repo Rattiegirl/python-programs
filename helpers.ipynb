{
 "cells": [
  {
   "cell_type": "code",
   "execution_count": 1,
   "metadata": {},
   "outputs": [
    {
     "name": "stdout",
     "output_type": "stream",
     "text": [
      "False\n"
     ]
    }
   ],
   "source": [
    "def funct_1(a, b, c, d):\n",
    "    return (a and b) or (c and d)\n",
    "\n",
    "def funct_2(a, b, c, d):\n",
    "    return (a or b) and (c or d)\n",
    "\n",
    "def funct_3(a, b, c, d):\n",
    "    return (not a and b) or (not b and a)\n",
    "\n",
    "def funct_4(a, b, c, d):\n",
    "    return (a and b) or (b and c)\n",
    "\n",
    "print(5 == \"5\")"
   ]
  },
  {
   "cell_type": "code",
   "execution_count": null,
   "metadata": {},
   "outputs": [],
   "source": [
    "for nominal in nominals:\n",
    "\n",
    "    for type in types:\n",
    "        \n",
    "        card = f\"{nominal}{type}\"\n",
    "        card_count[card] = 0"
   ]
  },
  {
   "cell_type": "code",
   "execution_count": null,
   "metadata": {},
   "outputs": [],
   "source": [
    "for value in values:\n",
    "\n",
    "   number = money//value\n",
    "   # money = money - value*number\n",
    "   money%=value\n",
    "   change[value] = number"
   ]
  },
  {
   "cell_type": "code",
   "execution_count": null,
   "metadata": {},
   "outputs": [],
   "source": [
    "arr = [1, 3, 2, 5, 20, 5, -1]\n",
    "max_count = 0\n",
    "max_num = arr[0]\n",
    "iterations = 0\n",
    "d = {}\n",
    "for num1 in arr:\n",
    "    if d.get(num1) == None:\n",
    "        d[num1] = 0\n",
    "    d[num1] += 1\n",
    "    count = d[num1]\n",
    "   \n",
    "    print(f\"{num1} : {count}\")\n",
    "    if count > max_count:\n",
    "        max_count = count\n",
    "        max_num = num1\n",
    "\n",
    "print(f\"max_count: {max_count}\")\n",
    "print(f\"max_num: {max_num}\")\n",
    "print(f\"iterations: {iterations}\")\n",
    "print(d)"
   ]
  },
  {
   "cell_type": "code",
   "execution_count": 5,
   "metadata": {},
   "outputs": [
    {
     "name": "stdout",
     "output_type": "stream",
     "text": [
      "rat\n"
     ]
    }
   ],
   "source": [
    "array = [\"rat\", \"fish\",\"potato\"]\n",
    "\n",
    "print(array[-3])"
   ]
  },
  {
   "cell_type": "code",
   "execution_count": null,
   "metadata": {},
   "outputs": [],
   "source": [
    "my_list = ['apple', 'banana', 'cherry']\n",
    "\n",
    "for index, value in enumerate(my_list):\n",
    "    print(f\"Index: {index}, Value: {value}\")\n",
    "# Output:\n",
    "# Index: 0, Value: apple\n",
    "# Index: 1, Value: banana\n",
    "# Index: 2, Value: cherry"
   ]
  },
  {
   "cell_type": "code",
   "execution_count": null,
   "metadata": {},
   "outputs": [],
   "source": [
    "import sys\n",
    "# print(sys.argv)\n",
    "input_file = sys.argv[1]\n",
    "print(input_file)\n",
    "output_file = sys.argv[2]\n",
    "print(output_file)"
   ]
  },
  {
   "cell_type": "code",
   "execution_count": 6,
   "metadata": {},
   "outputs": [
    {
     "name": "stdout",
     "output_type": "stream",
     "text": [
      "[3, 64, 2]\n",
      "[64, 3, 1, 2]\n",
      "64\n",
      "3\n",
      "1\n",
      "[64, 3, 1]\n",
      "[4, 3, 6]\n",
      "open\n",
      "[0, 1, 2, 3, 4, 5, 6, 7, 8, 9]\n"
     ]
    }
   ],
   "source": [
    "import random\n",
    "\n",
    "list1 = [3,64,2,1]\n",
    "random_nums = random.sample(list1, 3) #find random answers\n",
    "random.shuffle(list1) #shuffle random answers\n",
    "\n",
    "print(random_nums)\n",
    "print(list1)\n",
    "\n",
    "for element in list1:\n",
    "  if element == 2:\n",
    "    continue #skip and don't use\n",
    "  print(element)\n",
    "\n",
    "list2 = [element for element in list1 if element != 2]\n",
    "print(list2)\n",
    "\n",
    "print(random.sample(range(10), 3))\n",
    "\n",
    "print(random.choice([\"open\", \"single\"]))\n",
    "\n",
    "print(list(range(10)))"
   ]
  },
  {
   "cell_type": "code",
   "execution_count": 3,
   "metadata": {},
   "outputs": [
    {
     "data": {
      "text/plain": [
       "1024"
      ]
     },
     "execution_count": 3,
     "metadata": {},
     "output_type": "execute_result"
    }
   ],
   "source": [
    "def power(base, n):\n",
    "    if n == 0:\n",
    "        return 1\n",
    "    return power(base, n-1)*base\n",
    "\n",
    "power(2,10)"
   ]
  },
  {
   "cell_type": "code",
   "execution_count": 4,
   "metadata": {},
   "outputs": [
    {
     "data": {
      "text/plain": [
       "1024"
      ]
     },
     "execution_count": 4,
     "metadata": {},
     "output_type": "execute_result"
    }
   ],
   "source": [
    "def power(base, n):\n",
    "    a = 1\n",
    "    for i in range(n):\n",
    "        a*=base\n",
    "    return a\n",
    "\n",
    "power(2,10)"
   ]
  }
 ],
 "metadata": {
  "kernelspec": {
   "display_name": "Python 3",
   "language": "python",
   "name": "python3"
  },
  "language_info": {
   "codemirror_mode": {
    "name": "ipython",
    "version": 3
   },
   "file_extension": ".py",
   "mimetype": "text/x-python",
   "name": "python",
   "nbconvert_exporter": "python",
   "pygments_lexer": "ipython3",
   "version": "3.13.0"
  }
 },
 "nbformat": 4,
 "nbformat_minor": 2
}
