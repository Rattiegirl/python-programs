{
 "cells": [
  {
   "cell_type": "code",
   "execution_count": 2,
   "id": "62673219",
   "metadata": {},
   "outputs": [
    {
     "name": "stdout",
     "output_type": "stream",
     "text": [
      "1\n"
     ]
    }
   ],
   "source": [
    "def get_deck_count(cards):\n",
    "    nominals = [\"1\",\"2\",\"3\"]\n",
    "    types = [\"c\", \"d\"]\n",
    "    deck = {}\n",
    "    min_deck_count = len(cards)\n",
    "\n",
    "    for nominal in nominals:\n",
    "        for type in types:\n",
    "\n",
    "            card = f\"{nominal}{type}\"\n",
    "            deck[card] = 0\n",
    "\n",
    "    for card in random_cards:\n",
    "\n",
    "        deck[card] += 1 \n",
    "\n",
    "    for card in deck:\n",
    "\n",
    "        if deck.get(card) < min_deck_count:\n",
    "            min_deck_count = deck.get(card)\n",
    "    \n",
    "    return min_deck_count\n",
    "\n",
    "  \n",
    "random_cards = [\"1c\", \"2c\", \"1d\", \"2d\", \"3d\",\"3c\", \"1d\", \"2d\", \"2c\", \"1d\"]\n",
    "\n",
    "print(get_deck_count(random_cards))\n",
    "\n",
    "#zadacha udalas"
   ]
  },
  {
   "cell_type": "code",
   "execution_count": 3,
   "id": "717357ee",
   "metadata": {},
   "outputs": [
    {
     "name": "stdout",
     "output_type": "stream",
     "text": [
      "0-2-f\n"
     ]
    }
   ],
   "source": [
    "# 📌 *Условие:* Дана сумма денег и кортеж с номиналами купюр `(100, 50, 20, 10, 5, 2, 1)`. Напишите функцию `get_change(amount)`, которая возвращает словарь `{номинал: количество}`, описывающий размен.\n",
    "\n",
    "\n",
    "list16 = [\"0\", \"1\", \"2\", \"3\", \"4\", \"5\", \"6\", \"7\", \"8\", \"9\", \"a\", \"b\", \"c\", \"d\", \"e\", \"f\"]\n",
    "\n",
    "def convert_to_hex(base_number):\n",
    "\n",
    "#    values = [100, 10, 1]\n",
    "   # values = [32, 16, 8, 4, 2, 1]\n",
    "   values = [256, 16, 1]\n",
    "   change = {}\n",
    "   digits = []\n",
    "\n",
    "   for value in values:\n",
    "\n",
    "      number = base_number//value\n",
    "      # base_number = base_number - value*number\n",
    "      base_number%=value\n",
    "      change[value] = number\n",
    "      digits.append(list16[number])\n",
    "\n",
    "   return \"-\".join(digits)\n",
    "  \n",
    "print(convert_to_hex(47))\n"
   ]
  },
  {
   "cell_type": "code",
   "execution_count": 4,
   "id": "1f3a23e6",
   "metadata": {},
   "outputs": [
    {
     "name": "stdout",
     "output_type": "stream",
     "text": [
      "{100: 7, 50: 1, 20: 1, 10: 1, 5: 1, 1: 1}\n",
      "{100: 10, 50: 0, 20: 0, 10: 1, 5: 1, 1: 0}\n"
     ]
    }
   ],
   "source": [
    "# 📌 *Условие:* Дана сумма денег и кортеж с номиналами купюр `(100, 50, 20, 10, 5, 2, 1)`. Напишите функцию `get_change(amount)`, которая возвращает словарь `{номинал: количество}`, описывающий размен.\n",
    "\n",
    "def get_change(money):\n",
    "\n",
    "   values = [100, 50, 20, 10, 5, 1]\n",
    "   change = {}\n",
    "\n",
    "   for value in values:\n",
    "\n",
    "      number = money//value\n",
    "      # money = money - value*number\n",
    "      money%=value\n",
    "      change[value] = number\n",
    "\n",
    "   return change\n",
    "  \n",
    "print(get_change(786))\n",
    "print(get_change(1015))"
   ]
  },
  {
   "cell_type": "code",
   "execution_count": 5,
   "id": "df2b7259",
   "metadata": {},
   "outputs": [
    {
     "name": "stdout",
     "output_type": "stream",
     "text": [
      "You like the word cat you have it here 3 times\n"
     ]
    }
   ],
   "source": [
    "arr = ['hello', 'bye', 'cat', 'dog', 'cat', 'hello', 'cat', 'dog']\n",
    "\n",
    "thy_word = arr[0]\n",
    "thy_count = 0\n",
    "word_book = {}\n",
    "\n",
    "for word in arr:\n",
    "\n",
    "    if (word_book.get(word) == None):\n",
    "\n",
    "        word_book[word] = 0\n",
    "\n",
    "    word_book[word] += 1\n",
    "\n",
    "    if (word_book[word] > thy_count):\n",
    "\n",
    "        thy_count = word_book[word]\n",
    "        thy_word = word\n",
    "\n",
    "print(\"You like the word\", thy_word, \"you have it here\", thy_count, \"times\")"
   ]
  },
  {
   "cell_type": "code",
   "execution_count": null,
   "id": "3f6ee538",
   "metadata": {},
   "outputs": [],
   "source": [
    "nums = [3,2,4]\n",
    "target = 6\n",
    "\n",
    "class Solution(object):\n",
    "    def twoSum(self, nums, target):\n",
    "        already_seen = {}\n",
    "\n",
    "        for index, num in enumerate(nums):\n",
    "            \n",
    "            if already_seen.get(num) == None:\n",
    "                already_seen[num] = []\n",
    "            \n",
    "            already_seen[num].append(index)\n",
    "            \n",
    "\n",
    "            needed = target - num\n",
    "\n",
    "            if already_seen[needed] == None:\n",
    "                already_seen[needed] = 0\n",
    "            else:\n",
    "                return (nums.index(num), nums.index(needed))\n",
    "            \n",
    "\n",
    "\n"
   ]
  }
 ],
 "metadata": {
  "kernelspec": {
   "display_name": "venv",
   "language": "python",
   "name": "python3"
  },
  "language_info": {
   "codemirror_mode": {
    "name": "ipython",
    "version": 3
   },
   "file_extension": ".py",
   "mimetype": "text/x-python",
   "name": "python",
   "nbconvert_exporter": "python",
   "pygments_lexer": "ipython3",
   "version": "3.13.0"
  }
 },
 "nbformat": 4,
 "nbformat_minor": 5
}
